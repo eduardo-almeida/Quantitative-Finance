{
 "cells": [
  {
   "cell_type": "code",
   "execution_count": null,
   "metadata": {
    "scrolled": true
   },
   "outputs": [],
   "source": [
    "#pip install plotly==4.14.3"
   ]
  },
  {
   "cell_type": "code",
   "execution_count": null,
   "metadata": {
    "scrolled": true
   },
   "outputs": [],
   "source": [
    "#pip install bt"
   ]
  },
  {
   "cell_type": "code",
   "execution_count": null,
   "metadata": {
    "scrolled": true
   },
   "outputs": [],
   "source": [
    "#conda install -c conda-forge ta-lib\n",
    "\n",
    "#Talvez não precise do tkinter\n",
    "#conda install -c anaconda tk"
   ]
  },
  {
   "cell_type": "code",
   "execution_count": 1,
   "metadata": {},
   "outputs": [],
   "source": [
    "import pandas as pd\n",
    "import numpy as np\n",
    "from time import time\n",
    "from poloniex import Poloniex\n",
    "import matplotlib.pyplot as plt\n",
    "import plotly.graph_objects as go\n",
    "import bt\n",
    "import talib\n",
    "from talib import RSI, BBANDS"
   ]
  },
  {
   "cell_type": "code",
   "execution_count": 2,
   "metadata": {},
   "outputs": [],
   "source": [
    "bitcoin_data = pd.read_csv(\"data/Bitcoin.csv\", index_col=\"Date\", parse_dates=True)"
   ]
  },
  {
   "cell_type": "code",
   "execution_count": 3,
   "metadata": {},
   "outputs": [
    {
     "data": {
      "text/html": [
       "<div>\n",
       "<style scoped>\n",
       "    .dataframe tbody tr th:only-of-type {\n",
       "        vertical-align: middle;\n",
       "    }\n",
       "\n",
       "    .dataframe tbody tr th {\n",
       "        vertical-align: top;\n",
       "    }\n",
       "\n",
       "    .dataframe thead th {\n",
       "        text-align: right;\n",
       "    }\n",
       "</style>\n",
       "<table border=\"1\" class=\"dataframe\">\n",
       "  <thead>\n",
       "    <tr style=\"text-align: right;\">\n",
       "      <th></th>\n",
       "      <th>Open</th>\n",
       "      <th>High</th>\n",
       "      <th>Low</th>\n",
       "      <th>Close</th>\n",
       "      <th>Volume</th>\n",
       "    </tr>\n",
       "    <tr>\n",
       "      <th>Date</th>\n",
       "      <th></th>\n",
       "      <th></th>\n",
       "      <th></th>\n",
       "      <th></th>\n",
       "      <th></th>\n",
       "    </tr>\n",
       "  </thead>\n",
       "  <tbody>\n",
       "    <tr>\n",
       "      <th>2016-12-17</th>\n",
       "      <td>785.17</td>\n",
       "      <td>792.51</td>\n",
       "      <td>784.86</td>\n",
       "      <td>790.83</td>\n",
       "      <td>78989800</td>\n",
       "    </tr>\n",
       "    <tr>\n",
       "      <th>2016-12-18</th>\n",
       "      <td>791.01</td>\n",
       "      <td>794.74</td>\n",
       "      <td>788.03</td>\n",
       "      <td>790.53</td>\n",
       "      <td>60524400</td>\n",
       "    </tr>\n",
       "    <tr>\n",
       "      <th>2016-12-19</th>\n",
       "      <td>790.69</td>\n",
       "      <td>793.61</td>\n",
       "      <td>790.32</td>\n",
       "      <td>792.71</td>\n",
       "      <td>74886400</td>\n",
       "    </tr>\n",
       "    <tr>\n",
       "      <th>2016-12-20</th>\n",
       "      <td>792.25</td>\n",
       "      <td>801.34</td>\n",
       "      <td>791.50</td>\n",
       "      <td>800.88</td>\n",
       "      <td>99629296</td>\n",
       "    </tr>\n",
       "    <tr>\n",
       "      <th>2016-12-21</th>\n",
       "      <td>800.64</td>\n",
       "      <td>834.28</td>\n",
       "      <td>799.41</td>\n",
       "      <td>834.28</td>\n",
       "      <td>155576000</td>\n",
       "    </tr>\n",
       "  </tbody>\n",
       "</table>\n",
       "</div>"
      ],
      "text/plain": [
       "              Open    High     Low   Close     Volume\n",
       "Date                                                 \n",
       "2016-12-17  785.17  792.51  784.86  790.83   78989800\n",
       "2016-12-18  791.01  794.74  788.03  790.53   60524400\n",
       "2016-12-19  790.69  793.61  790.32  792.71   74886400\n",
       "2016-12-20  792.25  801.34  791.50  800.88   99629296\n",
       "2016-12-21  800.64  834.28  799.41  834.28  155576000"
      ]
     },
     "execution_count": 3,
     "metadata": {},
     "output_type": "execute_result"
    }
   ],
   "source": [
    "bitcoin_data.head()"
   ]
  },
  {
   "cell_type": "markdown",
   "metadata": {},
   "source": [
    "Curso do datacamp Financial Trading in Python\n",
    "Com a professora Chelsea Yang\n",
    "https://campus.datacamp.com/courses/financial-trading-in-python/trading-strategies?ex=8"
   ]
  },
  {
   "cell_type": "code",
   "execution_count": null,
   "metadata": {},
   "outputs": [],
   "source": [
    "# Plot the daily high price\n",
    "plt.plot(bitcoin_data['High'], color='green')\n",
    "# Plot the daily low price\n",
    "plt.plot(bitcoin_data['Low'], color='red')\n",
    "\n",
    "plt.title('Daily high low prices')\n",
    "plt.show()"
   ]
  },
  {
   "cell_type": "code",
   "execution_count": null,
   "metadata": {},
   "outputs": [],
   "source": [
    "# Define the candlestick data\n",
    "candlestick = go.Candlestick(\n",
    "    x=bitcoin_data.index,\n",
    "    open=bitcoin_data['Open'],\n",
    "    high=bitcoin_data['High'],\n",
    "    low=bitcoin_data['Low'],\n",
    "    close=bitcoin_data['Close'])\n",
    "\n",
    "# Create a candlestick figure   \n",
    "fig = go.Figure(data=[candlestick])\n",
    "fig.update_layout(title='Bitcoin prices')                        \n",
    "\n",
    "# Show the plot\n",
    "fig.show()"
   ]
  },
  {
   "cell_type": "code",
   "execution_count": null,
   "metadata": {},
   "outputs": [],
   "source": [
    "# Resample the data to daily by calculating the mean values\n",
    "eurusd_daily = bitcoin_data.resample('D').mean()"
   ]
  },
  {
   "cell_type": "code",
   "execution_count": null,
   "metadata": {},
   "outputs": [],
   "source": [
    "eurusd_daily.head()"
   ]
  },
  {
   "cell_type": "markdown",
   "metadata": {},
   "source": [
    "Trace um histograma de retorno"
   ]
  },
  {
   "cell_type": "code",
   "execution_count": null,
   "metadata": {
    "scrolled": true
   },
   "outputs": [],
   "source": [
    "# Calculate daily returns\n",
    "bitcoin_data['daily_return'] = bitcoin_data['Close'].pct_change() * 100\n",
    "\n",
    "# Plot the histogram\n",
    "bitcoin_data['daily_return'].hist(bins=100, color='red')\n",
    "plt.ylabel('Frequency')\n",
    "plt.xlabel('Daily return')\n",
    "plt.title('Daily return histogram')\n",
    "plt.show()"
   ]
  },
  {
   "cell_type": "markdown",
   "metadata": {},
   "source": [
    "Calcular e plotar SMAs"
   ]
  },
  {
   "cell_type": "code",
   "execution_count": null,
   "metadata": {},
   "outputs": [],
   "source": [
    "# Calculate SMA\n",
    "bitcoin_data['sma_50'] = bitcoin_data['Close'].rolling(window=50).mean()\n",
    "\n",
    "# Plot the SMA\n",
    "plt.plot(bitcoin_data['sma_50'], color='green', label='SMA_50')\n",
    "# Plot the close price\n",
    "plt.plot(bitcoin_data['Close'], color='red', label='Close')\n",
    "\n",
    "# Customize and show the plot\n",
    "plt.title('Simple moving averages')\n",
    "plt.legend()\n",
    "plt.show()"
   ]
  },
  {
   "cell_type": "markdown",
   "metadata": {},
   "source": [
    "O processo bt"
   ]
  },
  {
   "cell_type": "code",
   "execution_count": 4,
   "metadata": {},
   "outputs": [],
   "source": [
    "# Download historical prices\n",
    "bt_data = bt.get('fb, amzn, goog, nflx, aapl',\n",
    "               start='2020-6-1', end='2020-12-1')"
   ]
  },
  {
   "cell_type": "code",
   "execution_count": null,
   "metadata": {},
   "outputs": [],
   "source": [
    "bt_data.head()"
   ]
  },
  {
   "cell_type": "markdown",
   "metadata": {},
   "source": [
    "Calcule e plote dois EMAs\n",
    "\n",
    "A MME de 12 períodos e a MME de 26 períodos são duas médias móveis usadas no cálculo de um indicador mais complexo denominado MACD (Moving Average Convergence Divergence). O MACD transforma duas MMEs em um indicador de momentum subtraindo a MME mais longa da mais curta. Antes de aprender mais sobre o MACD, primeiro você deseja se familiarizar com seus componentes. Você decide calcular dois EMAs usando os preços diários das ações do Google e plotá-los em um gráfico.\n",
    "\n",
    "Os dados históricos de preços diários do estoque do Google foram carregados stock_data. Além disso, talib foi importado para você e matplotlib.pyplot como plt."
   ]
  },
  {
   "cell_type": "code",
   "execution_count": 6,
   "metadata": {},
   "outputs": [
    {
     "name": "stderr",
     "output_type": "stream",
     "text": [
      "<ipython-input-6-66e05459743d>:14: UserWarning: Matplotlib is currently using agg, which is a non-GUI backend, so cannot show the figure.\n",
      "  plt.show()\n"
     ]
    }
   ],
   "source": [
    "# Calculate 12-day EMA\n",
    "bitcoin_data['EMA_12'] = talib.EMA(bitcoin_data['Close'], timeperiod=12)\n",
    "# Calculate 26-day EMA\n",
    "bitcoin_data['EMA_26'] = talib.EMA(bitcoin_data['Close'], timeperiod=26)\n",
    "\n",
    "# Plot the EMAs with price\n",
    "plt.plot(bitcoin_data['EMA_12'], label='EMA_12')\n",
    "plt.plot(bitcoin_data['EMA_26'], label='EMA_26')\n",
    "plt.plot(bitcoin_data['Close'], label='Close')\n",
    "\n",
    "# Customize and show the plot\n",
    "plt.legend()\n",
    "plt.title('EMAs')\n",
    "plt.show()"
   ]
  },
  {
   "cell_type": "markdown",
   "metadata": {},
   "source": [
    "SMA vs. EMA\n",
    "SMA e EMA são indicadores de tendência comumente usados. O SMA atribui peso igual a todos os pontos de dados, enquanto o EMA aplica mais peso aos pontos de dados recentes. Você tem alguns dados de preços de ações do Google e deseja decidir sobre um indicador de média móvel a ser usado. Você planeja calcular o SMA e o EMA com o mesmo período de lookback e plotá-los em um gráfico.\n",
    "\n",
    "Os dados históricos de preços diários do estoque do Google foram carregados stock_data. Além disso, talibfoi importado para você e matplotlib.pyplotcomo plt."
   ]
  },
  {
   "cell_type": "code",
   "execution_count": 8,
   "metadata": {},
   "outputs": [
    {
     "name": "stderr",
     "output_type": "stream",
     "text": [
      "<ipython-input-8-2e265962cd54>:14: UserWarning: Matplotlib is currently using agg, which is a non-GUI backend, so cannot show the figure.\n",
      "  plt.show()\n"
     ]
    }
   ],
   "source": [
    "# Calculate the SMA\n",
    "bitcoin_data['SMA'] = talib.SMA(bitcoin_data['Close'], timeperiod=50)\n",
    "# Calculate the EMA\n",
    "bitcoin_data['EMA'] = talib.EMA(bitcoin_data['Close'], timeperiod=50)\n",
    "\n",
    "# Plot the SMA, EMA with price\n",
    "plt.plot(bitcoin_data['SMA'], label='SMA')\n",
    "plt.plot(bitcoin_data['EMA'], label='EMA')\n",
    "plt.plot(bitcoin_data['Close'], label='Close')\n",
    "\n",
    "# Customize and show the plot\n",
    "plt.legend()\n",
    "plt.title('SMA vs EMA')\n",
    "plt.show()"
   ]
  },
  {
   "cell_type": "markdown",
   "metadata": {},
   "source": [
    "Calcule o ADX\n",
    "\n",
    "O índice de movimento direcional médio (ADX) foi desenvolvido por J. Welles Wilder como um indicador da força da tendência. Ele combina dois outros indicadores, o índice direcional positivo (+ DI) e o indicador direcional negativo (-DI), e é obtido por meio de cálculos demorados. No entanto, com Python, você pode calculá-lo com uma linha de código. Neste exercício, você implementará seu primeiro indicador ADX usando dados de preços diários do estoque da Tesla.\n",
    "\n",
    "Os dados históricos de preços diários foram carregados em stock_data. Além disso, talibfoi importado para você"
   ]
  },
  {
   "cell_type": "code",
   "execution_count": 9,
   "metadata": {},
   "outputs": [],
   "source": [
    "stock_data = bitcoin_data.copy()"
   ]
  },
  {
   "cell_type": "code",
   "execution_count": 11,
   "metadata": {},
   "outputs": [
    {
     "data": {
      "text/html": [
       "<div>\n",
       "<style scoped>\n",
       "    .dataframe tbody tr th:only-of-type {\n",
       "        vertical-align: middle;\n",
       "    }\n",
       "\n",
       "    .dataframe tbody tr th {\n",
       "        vertical-align: top;\n",
       "    }\n",
       "\n",
       "    .dataframe thead th {\n",
       "        text-align: right;\n",
       "    }\n",
       "</style>\n",
       "<table border=\"1\" class=\"dataframe\">\n",
       "  <thead>\n",
       "    <tr style=\"text-align: right;\">\n",
       "      <th></th>\n",
       "      <th>Open</th>\n",
       "      <th>High</th>\n",
       "      <th>Low</th>\n",
       "      <th>Close</th>\n",
       "      <th>Volume</th>\n",
       "      <th>EMA_12</th>\n",
       "      <th>EMA_26</th>\n",
       "      <th>SMA</th>\n",
       "      <th>EMA</th>\n",
       "      <th>ADX_14</th>\n",
       "      <th>ADX_21</th>\n",
       "    </tr>\n",
       "    <tr>\n",
       "      <th>Date</th>\n",
       "      <th></th>\n",
       "      <th></th>\n",
       "      <th></th>\n",
       "      <th></th>\n",
       "      <th></th>\n",
       "      <th></th>\n",
       "      <th></th>\n",
       "      <th></th>\n",
       "      <th></th>\n",
       "      <th></th>\n",
       "      <th></th>\n",
       "    </tr>\n",
       "  </thead>\n",
       "  <tbody>\n",
       "    <tr>\n",
       "      <th>2020-12-13</th>\n",
       "      <td>18806.77</td>\n",
       "      <td>19381.54</td>\n",
       "      <td>18734.33</td>\n",
       "      <td>19142.38</td>\n",
       "      <td>25450468637</td>\n",
       "      <td>18670.587599</td>\n",
       "      <td>18140.884336</td>\n",
       "      <td>16763.1054</td>\n",
       "      <td>16873.007995</td>\n",
       "      <td>29.554256</td>\n",
       "      <td>35.834810</td>\n",
       "    </tr>\n",
       "    <tr>\n",
       "      <th>2020-12-14</th>\n",
       "      <td>19144.49</td>\n",
       "      <td>19305.10</td>\n",
       "      <td>19012.71</td>\n",
       "      <td>19246.64</td>\n",
       "      <td>22473997681</td>\n",
       "      <td>18759.211045</td>\n",
       "      <td>18222.792163</td>\n",
       "      <td>16887.4148</td>\n",
       "      <td>16966.091603</td>\n",
       "      <td>28.955107</td>\n",
       "      <td>35.294039</td>\n",
       "    </tr>\n",
       "    <tr>\n",
       "      <th>2020-12-15</th>\n",
       "      <td>19246.92</td>\n",
       "      <td>19525.01</td>\n",
       "      <td>19079.84</td>\n",
       "      <td>19417.08</td>\n",
       "      <td>26741982541</td>\n",
       "      <td>18860.421654</td>\n",
       "      <td>18311.257929</td>\n",
       "      <td>17014.2514</td>\n",
       "      <td>17062.208796</td>\n",
       "      <td>28.657884</td>\n",
       "      <td>34.889286</td>\n",
       "    </tr>\n",
       "    <tr>\n",
       "      <th>2020-12-16</th>\n",
       "      <td>19418.82</td>\n",
       "      <td>21458.91</td>\n",
       "      <td>19298.32</td>\n",
       "      <td>21310.60</td>\n",
       "      <td>44409011479</td>\n",
       "      <td>19237.372168</td>\n",
       "      <td>18533.431416</td>\n",
       "      <td>17167.3790</td>\n",
       "      <td>17228.812372</td>\n",
       "      <td>30.012427</td>\n",
       "      <td>35.272989</td>\n",
       "    </tr>\n",
       "    <tr>\n",
       "      <th>2020-12-17</th>\n",
       "      <td>22674.05</td>\n",
       "      <td>23586.91</td>\n",
       "      <td>21237.53</td>\n",
       "      <td>22885.93</td>\n",
       "      <td>67490234368</td>\n",
       "      <td>19798.688758</td>\n",
       "      <td>18855.838718</td>\n",
       "      <td>17359.6718</td>\n",
       "      <td>17450.660122</td>\n",
       "      <td>32.259940</td>\n",
       "      <td>36.190330</td>\n",
       "    </tr>\n",
       "  </tbody>\n",
       "</table>\n",
       "</div>"
      ],
      "text/plain": [
       "                Open      High       Low     Close       Volume        EMA_12  \\\n",
       "Date                                                                            \n",
       "2020-12-13  18806.77  19381.54  18734.33  19142.38  25450468637  18670.587599   \n",
       "2020-12-14  19144.49  19305.10  19012.71  19246.64  22473997681  18759.211045   \n",
       "2020-12-15  19246.92  19525.01  19079.84  19417.08  26741982541  18860.421654   \n",
       "2020-12-16  19418.82  21458.91  19298.32  21310.60  44409011479  19237.372168   \n",
       "2020-12-17  22674.05  23586.91  21237.53  22885.93  67490234368  19798.688758   \n",
       "\n",
       "                  EMA_26         SMA           EMA     ADX_14     ADX_21  \n",
       "Date                                                                      \n",
       "2020-12-13  18140.884336  16763.1054  16873.007995  29.554256  35.834810  \n",
       "2020-12-14  18222.792163  16887.4148  16966.091603  28.955107  35.294039  \n",
       "2020-12-15  18311.257929  17014.2514  17062.208796  28.657884  34.889286  \n",
       "2020-12-16  18533.431416  17167.3790  17228.812372  30.012427  35.272989  \n",
       "2020-12-17  18855.838718  17359.6718  17450.660122  32.259940  36.190330  "
      ]
     },
     "execution_count": 11,
     "metadata": {},
     "output_type": "execute_result"
    }
   ],
   "source": [
    "# Calculate the ADX with the default time period\n",
    "stock_data['ADX_14'] = talib.ADX(stock_data['High'],\n",
    "                            stock_data['Low'], \n",
    "                            stock_data['Close'], timeperiod=14)\n",
    "\n",
    "# Calculate the ADX with the time period set to 21\n",
    "stock_data['ADX_21'] = talib.ADX(stock_data['High'],\n",
    "                            stock_data['Low'], \n",
    "                            stock_data['Close'], timeperiod=21)\n",
    "\n",
    "# Print the last five rows\n",
    "stock_data.tail()"
   ]
  },
  {
   "cell_type": "markdown",
   "metadata": {},
   "source": [
    "Visualize o ADX\n",
    "\n",
    "O ADX pode quantificar a força de uma tendência, mas não sugere a direção da tendência de alta ou baixa. Normalmente, um valor ADX acima de 25 indica que um mercado de tendência está presente. Para melhor entendê-lo, você irá calcular o ADX e traçá-lo junto com os dados de preço.\n",
    "\n",
    "Como no exercício anterior, você usará dados históricos de preços diários do estoque da Tesla, que foram carregados como stock_data. Além disso, talibfoi importado para você e matplotlib.pyplotcomo plt."
   ]
  },
  {
   "cell_type": "code",
   "execution_count": 12,
   "metadata": {},
   "outputs": [
    {
     "name": "stderr",
     "output_type": "stream",
     "text": [
      "<ipython-input-12-86d47cf2bea8>:14: UserWarning: Matplotlib is currently using agg, which is a non-GUI backend, so cannot show the figure.\n",
      "  plt.show()\n"
     ]
    }
   ],
   "source": [
    "# Calculate ADX\n",
    "stock_data['ADX'] = talib.ADX(stock_data['High'], stock_data['Low'], stock_data['Close'], timeperiod=14)\n",
    "\n",
    "# Create subplots\n",
    "fig, (ax1, ax2) = plt.subplots(2)\n",
    "\n",
    "# Plot ADX with the price\n",
    "ax1.set_ylabel('Price')\n",
    "ax1.plot(stock_data['Close'])\n",
    "ax2.set_ylabel('ADX')\n",
    "ax2.plot(stock_data['ADX'], color='red')\n",
    "\n",
    "ax1.set_title('Price and ADX')\n",
    "plt.show()"
   ]
  },
  {
   "cell_type": "markdown",
   "metadata": {},
   "source": [
    "Calcule o RSI\n",
    "\n",
    "O cálculo do RSI segue uma fórmula simples. RS, ou Força Relativa, é a média das variações de preço para cima em n períodos escolhidos , dividida pela média das variações de preço para baixo nesses n períodos.\n",
    "\n",
    "\n",
    "Onde: RS = média das variações de preço para cima / média das variações de preço para baixo\n",
    "\n",
    "Todos esses cálculos podem ser feitos em Python com uma linha de código. Neste exercício, você fará seu primeiro cálculo de RSI usando dados históricos de preços diários do estoque do Google.\n",
    "\n",
    "Os dados de preços diários foram carregados como stock_data. Além disso, talibfoi importado para você."
   ]
  },
  {
   "cell_type": "code",
   "execution_count": 13,
   "metadata": {},
   "outputs": [
    {
     "data": {
      "text/html": [
       "<div>\n",
       "<style scoped>\n",
       "    .dataframe tbody tr th:only-of-type {\n",
       "        vertical-align: middle;\n",
       "    }\n",
       "\n",
       "    .dataframe tbody tr th {\n",
       "        vertical-align: top;\n",
       "    }\n",
       "\n",
       "    .dataframe thead th {\n",
       "        text-align: right;\n",
       "    }\n",
       "</style>\n",
       "<table border=\"1\" class=\"dataframe\">\n",
       "  <thead>\n",
       "    <tr style=\"text-align: right;\">\n",
       "      <th></th>\n",
       "      <th>Open</th>\n",
       "      <th>High</th>\n",
       "      <th>Low</th>\n",
       "      <th>Close</th>\n",
       "      <th>Volume</th>\n",
       "      <th>EMA_12</th>\n",
       "      <th>EMA_26</th>\n",
       "      <th>SMA</th>\n",
       "      <th>EMA</th>\n",
       "      <th>ADX_14</th>\n",
       "      <th>ADX_21</th>\n",
       "      <th>ADX</th>\n",
       "      <th>RSI_14</th>\n",
       "      <th>RSI_21</th>\n",
       "    </tr>\n",
       "    <tr>\n",
       "      <th>Date</th>\n",
       "      <th></th>\n",
       "      <th></th>\n",
       "      <th></th>\n",
       "      <th></th>\n",
       "      <th></th>\n",
       "      <th></th>\n",
       "      <th></th>\n",
       "      <th></th>\n",
       "      <th></th>\n",
       "      <th></th>\n",
       "      <th></th>\n",
       "      <th></th>\n",
       "      <th></th>\n",
       "      <th></th>\n",
       "    </tr>\n",
       "  </thead>\n",
       "  <tbody>\n",
       "    <tr>\n",
       "      <th>2020-12-13</th>\n",
       "      <td>18806.77</td>\n",
       "      <td>19381.54</td>\n",
       "      <td>18734.33</td>\n",
       "      <td>19142.38</td>\n",
       "      <td>25450468637</td>\n",
       "      <td>18670.587599</td>\n",
       "      <td>18140.884336</td>\n",
       "      <td>16763.1054</td>\n",
       "      <td>16873.007995</td>\n",
       "      <td>29.554256</td>\n",
       "      <td>35.834810</td>\n",
       "      <td>29.554256</td>\n",
       "      <td>58.961661</td>\n",
       "      <td>60.530070</td>\n",
       "    </tr>\n",
       "    <tr>\n",
       "      <th>2020-12-14</th>\n",
       "      <td>19144.49</td>\n",
       "      <td>19305.10</td>\n",
       "      <td>19012.71</td>\n",
       "      <td>19246.64</td>\n",
       "      <td>22473997681</td>\n",
       "      <td>18759.211045</td>\n",
       "      <td>18222.792163</td>\n",
       "      <td>16887.4148</td>\n",
       "      <td>16966.091603</td>\n",
       "      <td>28.955107</td>\n",
       "      <td>35.294039</td>\n",
       "      <td>28.955107</td>\n",
       "      <td>59.677408</td>\n",
       "      <td>61.004387</td>\n",
       "    </tr>\n",
       "    <tr>\n",
       "      <th>2020-12-15</th>\n",
       "      <td>19246.92</td>\n",
       "      <td>19525.01</td>\n",
       "      <td>19079.84</td>\n",
       "      <td>19417.08</td>\n",
       "      <td>26741982541</td>\n",
       "      <td>18860.421654</td>\n",
       "      <td>18311.257929</td>\n",
       "      <td>17014.2514</td>\n",
       "      <td>17062.208796</td>\n",
       "      <td>28.657884</td>\n",
       "      <td>34.889286</td>\n",
       "      <td>28.657884</td>\n",
       "      <td>60.878627</td>\n",
       "      <td>61.792511</td>\n",
       "    </tr>\n",
       "    <tr>\n",
       "      <th>2020-12-16</th>\n",
       "      <td>19418.82</td>\n",
       "      <td>21458.91</td>\n",
       "      <td>19298.32</td>\n",
       "      <td>21310.60</td>\n",
       "      <td>44409011479</td>\n",
       "      <td>19237.372168</td>\n",
       "      <td>18533.431416</td>\n",
       "      <td>17167.3790</td>\n",
       "      <td>17228.812372</td>\n",
       "      <td>30.012427</td>\n",
       "      <td>35.272989</td>\n",
       "      <td>30.012427</td>\n",
       "      <td>71.158273</td>\n",
       "      <td>69.081738</td>\n",
       "    </tr>\n",
       "    <tr>\n",
       "      <th>2020-12-17</th>\n",
       "      <td>22674.05</td>\n",
       "      <td>23586.91</td>\n",
       "      <td>21237.53</td>\n",
       "      <td>22885.93</td>\n",
       "      <td>67490234368</td>\n",
       "      <td>19798.688758</td>\n",
       "      <td>18855.838718</td>\n",
       "      <td>17359.6718</td>\n",
       "      <td>17450.660122</td>\n",
       "      <td>32.259940</td>\n",
       "      <td>36.190330</td>\n",
       "      <td>32.259940</td>\n",
       "      <td>76.654386</td>\n",
       "      <td>73.498416</td>\n",
       "    </tr>\n",
       "  </tbody>\n",
       "</table>\n",
       "</div>"
      ],
      "text/plain": [
       "                Open      High       Low     Close       Volume        EMA_12  \\\n",
       "Date                                                                            \n",
       "2020-12-13  18806.77  19381.54  18734.33  19142.38  25450468637  18670.587599   \n",
       "2020-12-14  19144.49  19305.10  19012.71  19246.64  22473997681  18759.211045   \n",
       "2020-12-15  19246.92  19525.01  19079.84  19417.08  26741982541  18860.421654   \n",
       "2020-12-16  19418.82  21458.91  19298.32  21310.60  44409011479  19237.372168   \n",
       "2020-12-17  22674.05  23586.91  21237.53  22885.93  67490234368  19798.688758   \n",
       "\n",
       "                  EMA_26         SMA           EMA     ADX_14     ADX_21  \\\n",
       "Date                                                                       \n",
       "2020-12-13  18140.884336  16763.1054  16873.007995  29.554256  35.834810   \n",
       "2020-12-14  18222.792163  16887.4148  16966.091603  28.955107  35.294039   \n",
       "2020-12-15  18311.257929  17014.2514  17062.208796  28.657884  34.889286   \n",
       "2020-12-16  18533.431416  17167.3790  17228.812372  30.012427  35.272989   \n",
       "2020-12-17  18855.838718  17359.6718  17450.660122  32.259940  36.190330   \n",
       "\n",
       "                  ADX     RSI_14     RSI_21  \n",
       "Date                                         \n",
       "2020-12-13  29.554256  58.961661  60.530070  \n",
       "2020-12-14  28.955107  59.677408  61.004387  \n",
       "2020-12-15  28.657884  60.878627  61.792511  \n",
       "2020-12-16  30.012427  71.158273  69.081738  \n",
       "2020-12-17  32.259940  76.654386  73.498416  "
      ]
     },
     "execution_count": 13,
     "metadata": {},
     "output_type": "execute_result"
    }
   ],
   "source": [
    "# Calculate RSI with the default time period\n",
    "stock_data['RSI_14'] = talib.RSI(stock_data['Close'], timeperiod=14)\n",
    "\n",
    "# Calculate RSI with a time period of 21\n",
    "stock_data['RSI_21'] = talib.RSI(stock_data['Close'], timeperiod=21)\n",
    "\n",
    "# Print the last five rows\n",
    "stock_data.tail()"
   ]
  },
  {
   "cell_type": "markdown",
   "metadata": {},
   "source": [
    "Visualize o RSI\n",
    "\n",
    "O RSI é um indicador de momentum que oscila entre 0 e 100. Normalmente, um RSI acima de 70 indica uma condição de mercado sobrecomprado, o que significa que o ativo está sobrevalorizado e o preço pode reverter. Um RSI abaixo de 30 sugere uma condição de mercado sobrevendido, o que significa que o ativo está subvalorizado e o preço pode subir. Para melhor entendê-lo, você irá calcular o RSI e traçá-lo junto com os dados de preço.\n",
    "\n",
    "Como fez no exercício anterior, você usará dados históricos de preços diários do estoque do Google, que foram carregados como stock_data. Além disso, talibfoi importado para você e matplotlib.pyplotcomo plt."
   ]
  },
  {
   "cell_type": "code",
   "execution_count": 14,
   "metadata": {},
   "outputs": [
    {
     "name": "stderr",
     "output_type": "stream",
     "text": [
      "<ipython-input-14-644be610b417>:13: UserWarning: Matplotlib is currently using agg, which is a non-GUI backend, so cannot show the figure.\n",
      "  plt.show()\n"
     ]
    }
   ],
   "source": [
    "# Calculate RSI\n",
    "stock_data['RSI'] = talib.RSI(stock_data['Close'], timeperiod=14)\n",
    "\n",
    "# Create subplots\n",
    "fig, (ax1, ax2) = plt.subplots(2)\n",
    "# Plot RSI with the price\n",
    "ax1.set_ylabel('Price')\n",
    "ax1.plot(stock_data['Close'])\n",
    "ax2.set_ylabel('RSI')\n",
    "ax2.plot(stock_data['RSI'], color='orangered')\n",
    "\n",
    "ax1.set_title('Price and RSI')\n",
    "plt.show()"
   ]
  },
  {
   "cell_type": "markdown",
   "metadata": {},
   "source": [
    "Implementar bandas de Bollinger\n",
    "\n",
    "Bollinger Bands são envelopes plotados acima e abaixo de uma média móvel simples do preço. Como a distância das bandas é baseada no desvio padrão, elas se ajustam às oscilações de volatilidade do preço subjacente.\n",
    "\n",
    "Para entender melhor o impacto da especificação do desvio padrão nas bandas de Bollinger, você implementará e plotará dois conjuntos de bandas de Bollinger no mesmo conjunto de dados.\n",
    "\n",
    "Você usará dados históricos de preços do Bitcoin, que foram pré-carregados como bitcoin_data. A talibbiblioteca também foi importada para você."
   ]
  },
  {
   "cell_type": "code",
   "execution_count": 15,
   "metadata": {},
   "outputs": [
    {
     "name": "stderr",
     "output_type": "stream",
     "text": [
      "<ipython-input-15-f46cca595356>:14: UserWarning: Matplotlib is currently using agg, which is a non-GUI backend, so cannot show the figure.\n",
      "  plt.show()\n"
     ]
    }
   ],
   "source": [
    "# Define the Bollinger Bands with 1-sd\n",
    "upper_1sd, mid_1sd, lower_1sd = talib.BBANDS(bitcoin_data['Close'], \n",
    "                                     nbdevup=1,\n",
    "                                     nbdevdn=1,\n",
    "                                     timeperiod=20)\n",
    "# Plot the upper and lower Bollinger Bands \n",
    "plt.plot(bitcoin_data['Close'], color='green', label='Price')\n",
    "plt.plot(upper_1sd, color='tomato', label=\"Upper 1sd\")\n",
    "plt.plot(lower_1sd, color='tomato', label='Lower 2sd')\n",
    "\n",
    "# Customize and show the plot\n",
    "plt.legend(loc='upper left')\n",
    "plt.title('Bollinger Bands (1sd)')\n",
    "plt.show()"
   ]
  },
  {
   "cell_type": "markdown",
   "metadata": {},
   "source": [
    "Construir uma estratégia de sinal baseada em SMA\n",
    "\n",
    "É hora de construir e testar sua primeira estratégia baseada em sinais. Embora simples, esses tipos de estratégias podem ser eficazes e também estabelecer as bases para estratégias mais complexas que consistem em sinais e informações adicionais.\n",
    "\n",
    "Implementar um sinal baseado em comparação de preços com bté um processo direto. Primeiro, você fará o download de alguns dados históricos de preços das ações, calculará seu SMA (média móvel simples), implementará uma estratégia de sinal baseada em SMA e, em seguida, fará um backtest com os dados de preços de ações.\n",
    "\n",
    "O btpacote foi importado para você."
   ]
  },
  {
   "cell_type": "code",
   "execution_count": 17,
   "metadata": {},
   "outputs": [
    {
     "data": {
      "text/html": [
       "<div>\n",
       "<style scoped>\n",
       "    .dataframe tbody tr th:only-of-type {\n",
       "        vertical-align: middle;\n",
       "    }\n",
       "\n",
       "    .dataframe tbody tr th {\n",
       "        vertical-align: top;\n",
       "    }\n",
       "\n",
       "    .dataframe thead th {\n",
       "        text-align: right;\n",
       "    }\n",
       "</style>\n",
       "<table border=\"1\" class=\"dataframe\">\n",
       "  <thead>\n",
       "    <tr style=\"text-align: right;\">\n",
       "      <th></th>\n",
       "      <th>aapl</th>\n",
       "    </tr>\n",
       "    <tr>\n",
       "      <th>Date</th>\n",
       "      <th></th>\n",
       "    </tr>\n",
       "  </thead>\n",
       "  <tbody>\n",
       "    <tr>\n",
       "      <th>2020-11-24</th>\n",
       "      <td>115.770595</td>\n",
       "    </tr>\n",
       "    <tr>\n",
       "      <th>2020-11-25</th>\n",
       "      <td>116.021296</td>\n",
       "    </tr>\n",
       "    <tr>\n",
       "      <th>2020-11-27</th>\n",
       "      <td>116.094617</td>\n",
       "    </tr>\n",
       "    <tr>\n",
       "      <th>2020-11-30</th>\n",
       "      <td>116.612717</td>\n",
       "    </tr>\n",
       "    <tr>\n",
       "      <th>2020-12-01</th>\n",
       "      <td>117.318530</td>\n",
       "    </tr>\n",
       "  </tbody>\n",
       "</table>\n",
       "</div>"
      ],
      "text/plain": [
       "                  aapl\n",
       "Date                  \n",
       "2020-11-24  115.770595\n",
       "2020-11-25  116.021296\n",
       "2020-11-27  116.094617\n",
       "2020-11-30  116.612717\n",
       "2020-12-01  117.318530"
      ]
     },
     "execution_count": 17,
     "metadata": {},
     "output_type": "execute_result"
    }
   ],
   "source": [
    "# Get the price data\n",
    "price_data = bt.get('aapl', start='2019-11-1', end='2020-12-1')\n",
    "# Calculate the SMA\n",
    "sma = price_data.rolling(20).mean()\n",
    "sma.tail()"
   ]
  },
  {
   "cell_type": "markdown",
   "metadata": {},
   "source": [
    "Construir uma estratégia de sinal baseada em EMA\n",
    "\n",
    "Anteriormente, você implementou uma estratégia de sinal baseada em SMA. No entanto, você está se perguntando se o indicador EMA (média móvel exponencial) é uma escolha melhor, uma vez que é mais sensível ao movimento recente dos preços. Você também gostaria de aproveitar a talibbiblioteca para calcular o indicador. Depois de mudar para uma estratégia de sinal baseada na EMA, você realizará um backtest semelhante usando os dados de preços de ações da Apple.\n",
    "\n",
    "Os pacotes bte talibforam importados para você. Além disso, os dados históricos de preços das ações da Apple foram pré-carregados price_data."
   ]
  },
  {
   "cell_type": "code",
   "execution_count": 32,
   "metadata": {},
   "outputs": [
    {
     "data": {
      "text/html": [
       "<div>\n",
       "<style scoped>\n",
       "    .dataframe tbody tr th:only-of-type {\n",
       "        vertical-align: middle;\n",
       "    }\n",
       "\n",
       "    .dataframe tbody tr th {\n",
       "        vertical-align: top;\n",
       "    }\n",
       "\n",
       "    .dataframe thead th {\n",
       "        text-align: right;\n",
       "    }\n",
       "</style>\n",
       "<table border=\"1\" class=\"dataframe\">\n",
       "  <thead>\n",
       "    <tr style=\"text-align: right;\">\n",
       "      <th></th>\n",
       "      <th>Close</th>\n",
       "    </tr>\n",
       "    <tr>\n",
       "      <th>Date</th>\n",
       "      <th></th>\n",
       "    </tr>\n",
       "  </thead>\n",
       "  <tbody>\n",
       "    <tr>\n",
       "      <th>2020-12-13</th>\n",
       "      <td>19142.38</td>\n",
       "    </tr>\n",
       "    <tr>\n",
       "      <th>2020-12-14</th>\n",
       "      <td>19246.64</td>\n",
       "    </tr>\n",
       "    <tr>\n",
       "      <th>2020-12-15</th>\n",
       "      <td>19417.08</td>\n",
       "    </tr>\n",
       "    <tr>\n",
       "      <th>2020-12-16</th>\n",
       "      <td>21310.60</td>\n",
       "    </tr>\n",
       "    <tr>\n",
       "      <th>2020-12-17</th>\n",
       "      <td>22885.93</td>\n",
       "    </tr>\n",
       "  </tbody>\n",
       "</table>\n",
       "</div>"
      ],
      "text/plain": [
       "               Close\n",
       "Date                \n",
       "2020-12-13  19142.38\n",
       "2020-12-14  19246.64\n",
       "2020-12-15  19417.08\n",
       "2020-12-16  21310.60\n",
       "2020-12-17  22885.93"
      ]
     },
     "execution_count": 32,
     "metadata": {},
     "output_type": "execute_result"
    }
   ],
   "source": [
    "price_data = pd.DataFrame()\n",
    "price_data['Close'] = bitcoin_data['Close']\n",
    "price_data.tail()"
   ]
  },
  {
   "cell_type": "code",
   "execution_count": 31,
   "metadata": {},
   "outputs": [
    {
     "data": {
      "text/html": [
       "<div>\n",
       "<style scoped>\n",
       "    .dataframe tbody tr th:only-of-type {\n",
       "        vertical-align: middle;\n",
       "    }\n",
       "\n",
       "    .dataframe tbody tr th {\n",
       "        vertical-align: top;\n",
       "    }\n",
       "\n",
       "    .dataframe thead th {\n",
       "        text-align: right;\n",
       "    }\n",
       "</style>\n",
       "<table border=\"1\" class=\"dataframe\">\n",
       "  <thead>\n",
       "    <tr style=\"text-align: right;\">\n",
       "      <th></th>\n",
       "      <th>Close</th>\n",
       "    </tr>\n",
       "    <tr>\n",
       "      <th>Date</th>\n",
       "      <th></th>\n",
       "    </tr>\n",
       "  </thead>\n",
       "  <tbody>\n",
       "    <tr>\n",
       "      <th>2020-12-13</th>\n",
       "      <td>18422.370441</td>\n",
       "    </tr>\n",
       "    <tr>\n",
       "      <th>2020-12-14</th>\n",
       "      <td>18500.872304</td>\n",
       "    </tr>\n",
       "    <tr>\n",
       "      <th>2020-12-15</th>\n",
       "      <td>18588.130180</td>\n",
       "    </tr>\n",
       "    <tr>\n",
       "      <th>2020-12-16</th>\n",
       "      <td>18847.413020</td>\n",
       "    </tr>\n",
       "    <tr>\n",
       "      <th>2020-12-17</th>\n",
       "      <td>19232.033684</td>\n",
       "    </tr>\n",
       "  </tbody>\n",
       "</table>\n",
       "</div>"
      ],
      "text/plain": [
       "                   Close\n",
       "Date                    \n",
       "2020-12-13  18422.370441\n",
       "2020-12-14  18500.872304\n",
       "2020-12-15  18588.130180\n",
       "2020-12-16  18847.413020\n",
       "2020-12-17  19232.033684"
      ]
     },
     "execution_count": 31,
     "metadata": {},
     "output_type": "execute_result"
    }
   ],
   "source": [
    "ema = pd.DataFrame()\n",
    "ema['Close'] = talib.EMA(bitcoin_data['Close'], timeperiod=20)\n",
    "ema.tail()"
   ]
  },
  {
   "cell_type": "code",
   "execution_count": 33,
   "metadata": {
    "scrolled": true
   },
   "outputs": [
    {
     "name": "stderr",
     "output_type": "stream",
     "text": [
      "C:\\Users\\Eduardo\\anaconda3\\lib\\site-packages\\ffn\\core.py:2299: RuntimeWarning: divide by zero encountered in true_divide\n",
      "  res = np.divide(er.mean(), std)\n",
      "C:\\Users\\Eduardo\\anaconda3\\lib\\site-packages\\ffn\\core.py:2299: RuntimeWarning: divide by zero encountered in true_divide\n",
      "  res = np.divide(er.mean(), std)\n",
      "<ipython-input-33-4b9adc89f5a7>:12: UserWarning: Matplotlib is currently using agg, which is a non-GUI backend, so cannot show the figure.\n",
      "  plt.show()\n"
     ]
    }
   ],
   "source": [
    "# Define the strategy\n",
    "bt_strategy = bt.Strategy('AboveEMA',\n",
    "                          [bt.algos.SelectWhere(price_data > ema),\n",
    "                           bt.algos.WeighEqually(),\n",
    "                           bt.algos.Rebalance()])\n",
    "\n",
    "# Create the backtest and run it\n",
    "bt_backtest = bt.Backtest(bt_strategy, price_data)\n",
    "bt_result = bt.run(bt_backtest)\n",
    "# Plot the backtest result\n",
    "bt_result.plot(title='Backtest result')\n",
    "plt.show()"
   ]
  },
  {
   "cell_type": "markdown",
   "metadata": {},
   "source": [
    "Construir um sinal de crossover EMA\n",
    "\n",
    "As estratégias de acompanhamento de tendências acreditam que \"a tendência é sua amiga\" e usam sinais para indicar a tendência e lucrar com ela.\n",
    "\n",
    "Você deseja construir e testar uma estratégia de seguimento de tendências. Primeiro, você decide usar duas EMAs (médias móveis exponenciais) para construir o sinal. Quando a MME de curto prazo,, EMA_shorté maior do que a MME de longo prazo,, EMA_longvocê entrará em posições compradas no mercado. Vice-versa, quando EMA_shortfor menor que EMA_long, você entrará em posições vendidas.\n",
    "\n",
    "Uma MME de 10 dias e uma MME de 40 dias foram pré-calculadas e salvas em EMA_shorte EMA_long. Os dados históricos de preços das ações do Google foram pré-carregados em price_data. Além disso, o btpacote foi importado para você."
   ]
  },
  {
   "cell_type": "code",
   "execution_count": 34,
   "metadata": {},
   "outputs": [
    {
     "ename": "NameError",
     "evalue": "name 'EMA_short' is not defined",
     "output_type": "error",
     "traceback": [
      "\u001b[1;31m---------------------------------------------------------------------------\u001b[0m",
      "\u001b[1;31mNameError\u001b[0m                                 Traceback (most recent call last)",
      "\u001b[1;32m<ipython-input-34-c6e1accd4339>\u001b[0m in \u001b[0;36m<module>\u001b[1;34m\u001b[0m\n\u001b[0;32m      1\u001b[0m \u001b[1;31m# Construct the signal\u001b[0m\u001b[1;33m\u001b[0m\u001b[1;33m\u001b[0m\u001b[1;33m\u001b[0m\u001b[0m\n\u001b[0;32m      2\u001b[0m \u001b[0msignal\u001b[0m \u001b[1;33m=\u001b[0m \u001b[0mpd\u001b[0m\u001b[1;33m.\u001b[0m\u001b[0mDataFrame\u001b[0m\u001b[1;33m(\u001b[0m\u001b[1;33m)\u001b[0m\u001b[1;33m\u001b[0m\u001b[1;33m\u001b[0m\u001b[0m\n\u001b[1;32m----> 3\u001b[1;33m \u001b[0msignal\u001b[0m\u001b[1;33m[\u001b[0m\u001b[0mEMA_short\u001b[0m\u001b[1;33m>\u001b[0m\u001b[0mEMA_long\u001b[0m\u001b[1;33m]\u001b[0m \u001b[1;33m=\u001b[0m \u001b[1;36m1\u001b[0m\u001b[1;33m\u001b[0m\u001b[1;33m\u001b[0m\u001b[0m\n\u001b[0m\u001b[0;32m      4\u001b[0m \u001b[0msignal\u001b[0m\u001b[1;33m[\u001b[0m\u001b[0mEMA_short\u001b[0m\u001b[1;33m<\u001b[0m\u001b[0mEMA_long\u001b[0m\u001b[1;33m]\u001b[0m \u001b[1;33m=\u001b[0m \u001b[1;33m-\u001b[0m\u001b[1;36m1\u001b[0m\u001b[1;33m\u001b[0m\u001b[1;33m\u001b[0m\u001b[0m\n",
      "\u001b[1;31mNameError\u001b[0m: name 'EMA_short' is not defined"
     ]
    }
   ],
   "source": [
    "# Construct the signal\n",
    "signal = pd.DataFrame()\n",
    "signal[EMA_short>EMA_long] = 1\n",
    "signal[EMA_short<EMA_long] = -1"
   ]
  },
  {
   "cell_type": "code",
   "execution_count": null,
   "metadata": {},
   "outputs": [],
   "source": []
  },
  {
   "cell_type": "code",
   "execution_count": null,
   "metadata": {},
   "outputs": [],
   "source": []
  },
  {
   "cell_type": "code",
   "execution_count": null,
   "metadata": {},
   "outputs": [],
   "source": []
  },
  {
   "cell_type": "code",
   "execution_count": null,
   "metadata": {},
   "outputs": [],
   "source": []
  },
  {
   "cell_type": "code",
   "execution_count": null,
   "metadata": {},
   "outputs": [],
   "source": []
  },
  {
   "cell_type": "code",
   "execution_count": null,
   "metadata": {},
   "outputs": [],
   "source": []
  }
 ],
 "metadata": {
  "kernelspec": {
   "display_name": "Python 3",
   "language": "python",
   "name": "python3"
  },
  "language_info": {
   "codemirror_mode": {
    "name": "ipython",
    "version": 3
   },
   "file_extension": ".py",
   "mimetype": "text/x-python",
   "name": "python",
   "nbconvert_exporter": "python",
   "pygments_lexer": "ipython3",
   "version": "3.8.5"
  }
 },
 "nbformat": 4,
 "nbformat_minor": 4
}
