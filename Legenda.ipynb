{
 "cells": [
  {
   "cell_type": "code",
   "execution_count": 1,
   "metadata": {},
   "outputs": [],
   "source": [
    "import moviepy\n",
    "import moviepy.editor"
   ]
  },
  {
   "cell_type": "code",
   "execution_count": 2,
   "metadata": {},
   "outputs": [],
   "source": [
    "filename = \"Aula 03 - Análise exploratória inicial\""
   ]
  },
  {
   "cell_type": "code",
   "execution_count": 3,
   "metadata": {},
   "outputs": [],
   "source": [
    "def tempoVideo(filename):\n",
    "    video = moviepy.editor.VideoFileClip(filename+\".mp4\")\n",
    "    return int(video.duration)"
   ]
  },
  {
   "cell_type": "code",
   "execution_count": null,
   "metadata": {},
   "outputs": [],
   "source": [
    "def tempo(tempoAtual, valor):\n",
    "    tempo = \"\"\n",
    "    \n",
    "    return tempoAtual, tempo"
   ]
  },
  {
   "cell_type": "code",
   "execution_count": 88,
   "metadata": {},
   "outputs": [],
   "source": [
    "def organizarTexto(arquivo):\n",
    "    gravar = open(arquivo + \"1.txt\", \"w\")\n",
    "    coluna = 170\n",
    "    texto = list()\n",
    "    linhaAtual = \"\"\n",
    "    quantidadeLinha = 0    \n",
    "    video_duration = tempoVideo(filename)\n",
    "    tempoAtual = [0,0,3,0]\n",
    "    with open(arquivo + \".txt\", encoding='utf-8') as arq_entrada:\n",
    "        conteudo = arq_entrada.read()\n",
    "    print(len(conteudo))\n",
    "    aaa = 0\n",
    "    for linha in conteudo.split('\\n'):\n",
    "        if len(linha) > 0:\n",
    "            if linha[0].isdigit():\n",
    "                #escrever tempo\n",
    "                continue\n",
    "            for fatiado in linha.split(\".\"): \n",
    "                if len(fatiado) > 0:\n",
    "                    if((len(linhaAtual) + len(fatiado)) > coluna):\n",
    "                        aaa += len(linhaAtual)\n",
    "                        quantidadeLinha += 1\n",
    "                        texto.append(linhaAtual + '\\n\\n')\n",
    "                        linhaAtual = fatiado + \".\"\n",
    "                    else:\n",
    "                        linhaAtual = linhaAtual + fatiado + \".\"\n",
    "    print(\"==================\")\n",
    "    print(len(linhaAtual))\n",
    "    print(aaa)\n",
    "    aaa += len(linhaAtual)\n",
    "    texto.append(\" \" + linhaAtual )\n",
    "    duration = video_duration - quantidadeLinha\n",
    "    #for linha in texto:\n",
    "    print(aaa)\n",
    "    print(len(texto))\n",
    "    print(video_duration - quantidadeLinha)\n",
    "    gravar.writelines(texto)\n",
    "    return texto"
   ]
  },
  {
   "cell_type": "code",
   "execution_count": 89,
   "metadata": {
    "scrolled": false
   },
   "outputs": [
    {
     "name": "stdout",
     "output_type": "stream",
     "text": [
      "1929\n",
      "==================\n",
      "149\n",
      "1611\n",
      "1760\n",
      "14\n",
      "103\n"
     ]
    }
   ],
   "source": [
    "aaa = organizarTexto(filename)"
   ]
  },
  {
   "cell_type": "code",
   "execution_count": null,
   "metadata": {},
   "outputs": [],
   "source": [
    "print(aaa)"
   ]
  },
  {
   "cell_type": "code",
   "execution_count": null,
   "metadata": {},
   "outputs": [],
   "source": [
    "print(len(aaa))"
   ]
  },
  {
   "cell_type": "code",
   "execution_count": null,
   "metadata": {},
   "outputs": [],
   "source": [
    "print(len(aaa.split('\\n', 1)[0]))"
   ]
  },
  {
   "cell_type": "code",
   "execution_count": null,
   "metadata": {},
   "outputs": [],
   "source": [
    "print(len(aaa.split('\\n')))"
   ]
  }
 ],
 "metadata": {
  "kernelspec": {
   "display_name": "Python 3",
   "language": "python",
   "name": "python3"
  },
  "language_info": {
   "codemirror_mode": {
    "name": "ipython",
    "version": 3
   },
   "file_extension": ".py",
   "mimetype": "text/x-python",
   "name": "python",
   "nbconvert_exporter": "python",
   "pygments_lexer": "ipython3",
   "version": "3.8.5"
  }
 },
 "nbformat": 4,
 "nbformat_minor": 4
}
