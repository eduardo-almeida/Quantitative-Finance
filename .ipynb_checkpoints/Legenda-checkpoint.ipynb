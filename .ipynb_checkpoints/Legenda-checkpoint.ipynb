{
 "cells": [
  {
   "cell_type": "code",
   "execution_count": 3,
   "metadata": {},
   "outputs": [],
   "source": [
    "import moviepy\n",
    "import moviepy.editor"
   ]
  },
  {
   "cell_type": "code",
   "execution_count": 22,
   "metadata": {},
   "outputs": [],
   "source": [
    "filename = \"Aula 03 - Análise exploratória inicial\""
   ]
  },
  {
   "cell_type": "code",
   "execution_count": 20,
   "metadata": {},
   "outputs": [],
   "source": [
    "def tempoVideo(filename):\n",
    "    video = moviepy.editor.VideoFileClip(filename+\".mp4\")\n",
    "    return int(video.duration)"
   ]
  },
  {
   "cell_type": "code",
   "execution_count": 21,
   "metadata": {},
   "outputs": [
    {
     "data": {
      "text/plain": [
       "116"
      ]
     },
     "execution_count": 21,
     "metadata": {},
     "output_type": "execute_result"
    }
   ],
   "source": [
    "video_duration = tempoVideo(filename)\n",
    "video_duration"
   ]
  },
  {
   "cell_type": "code",
   "execution_count": 62,
   "metadata": {},
   "outputs": [],
   "source": [
    "def lerArquivo(arquivo):\n",
    "    texto = list()\n",
    "    #00:00:05,000 --> 00:00:12,000\n",
    "    gravar = open(arquivo + \".axt\", \"w\")\n",
    "    with open(arquivo + \".txt\", encoding='utf-8') as arq_entrada:\n",
    "        conteudo = arq_entrada.read()\n",
    "        #print(arq_entrada)\n",
    "    for linha in conteudo.split('\\n'):\n",
    "        if len(linha) > 0:\n",
    "            if linha[0].isdigit():\n",
    "                texto.append(\"00:00:05,000 --> 00:00:12,000\\n\")\n",
    "                continue\n",
    "        texto.append(linha + '\\n')\n",
    "    gravar.writelines(texto)\n",
    "    return conteudo"
   ]
  },
  {
   "cell_type": "code",
   "execution_count": 63,
   "metadata": {
    "scrolled": true
   },
   "outputs": [
    {
     "name": "stdout",
     "output_type": "stream",
     "text": [
      "False\n",
      "1. Análise exploratória inicial\n",
      "1\n",
      "OK\n",
      "False\n",
      "Agora que você importou o conjunto de dados de marketing e está familiarizado com ele, vamos fazer algumas análises exploratórias iniciais.\n",
      "A\n",
      "False\n",
      "2. Quantos usuários veem os ativos de marketing?\n",
      "2\n",
      "OK\n",
      "False\n",
      "Para começar, vamos ter uma ideia de quantos usuários exclusivos veem nossos ativos de marketing a cada dia. Podemos usar o método groupby () no DataFrame de marketing. Para agrupar por data, passamos 'date_served' como o argumento para groupby (). Em seguida, selecionamos a coluna user_id fora de groupby () e usamos o método nunique () para contar o número de usuários únicos a cada dia. Parece que cerca de 300 usuários veem nossos anúncios por dia.\n",
      "P\n",
      "False\n",
      "3. Visualização de resultados\n",
      "3\n",
      "OK\n",
      "False\n",
      "Como você viu no slide anterior, não é fácil interpretar os resultados quando eles são impressos em uma tabela. É muito mais fácil notar as flutuações em nossas métricas quando as representamos. Primeiro importamos matplotlib dot pyplot como plt. Em seguida, plotamos a série daily_users. É uma boa prática sempre adicionar títulos e rótulos ao gráfico para transmitir claramente as informações que o gráfico contém. Você pode adicionar um título usando plt dot title () e adicionar rótulos xey usando as funções plt dot xlabel () e plt dot ylabel (), respectivamente. Também giramos os xticks, neste caso, os rótulos de data, em 45 graus para aumentar a legibilidade. Finalmente, não se esqueça de incluir uma chamada para plt dot show () para exibir o gráfico.\n",
      "C\n",
      "False\n",
      "4. Gráfico de usuários diários\n",
      "4\n",
      "OK\n",
      "False\n",
      "Como você pode ver, enquanto a primeira metade do mês mantém em torno de 300 usuários por dia, há um grande pico no meio do mês. Isso pode ser porque enviamos um grande e-mail de marketing, que atingiu muitos usuários que não são visitantes diários do site. Esses são os tipos de flutuações que queremos conhecer antes de nos aprofundarmos e calcularmos as métricas.\n",
      "C\n",
      "False\n",
      "5. Vamos praticar!\n",
      "5\n",
      "OK\n",
      "False\n",
      "Agora é sua vez de analisar esses dados.\n",
      "A\n"
     ]
    }
   ],
   "source": [
    "aaa = lerArquivo(filename)"
   ]
  },
  {
   "cell_type": "code",
   "execution_count": null,
   "metadata": {},
   "outputs": [],
   "source": [
    "print(aaa)"
   ]
  },
  {
   "cell_type": "code",
   "execution_count": null,
   "metadata": {},
   "outputs": [],
   "source": [
    "print(len(aaa))"
   ]
  },
  {
   "cell_type": "code",
   "execution_count": null,
   "metadata": {},
   "outputs": [],
   "source": [
    "print(len(aaa.split('\\n', 1)[0]))"
   ]
  },
  {
   "cell_type": "code",
   "execution_count": null,
   "metadata": {},
   "outputs": [],
   "source": [
    "print(len(aaa.split('\\n')))"
   ]
  }
 ],
 "metadata": {
  "kernelspec": {
   "display_name": "Python 3",
   "language": "python",
   "name": "python3"
  },
  "language_info": {
   "codemirror_mode": {
    "name": "ipython",
    "version": 3
   },
   "file_extension": ".py",
   "mimetype": "text/x-python",
   "name": "python",
   "nbconvert_exporter": "python",
   "pygments_lexer": "ipython3",
   "version": "3.8.5"
  }
 },
 "nbformat": 4,
 "nbformat_minor": 4
}
