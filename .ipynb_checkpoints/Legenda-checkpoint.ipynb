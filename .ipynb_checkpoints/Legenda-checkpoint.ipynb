{
 "cells": [
  {
   "cell_type": "code",
   "execution_count": 1,
   "metadata": {},
   "outputs": [],
   "source": [
    "import moviepy\n",
    "import moviepy.editor"
   ]
  },
  {
   "cell_type": "code",
   "execution_count": 2,
   "metadata": {},
   "outputs": [],
   "source": [
    "filename = \"Aula 03 - Análise exploratória inicial\""
   ]
  },
  {
   "cell_type": "code",
   "execution_count": 3,
   "metadata": {},
   "outputs": [],
   "source": [
    "def tempoVideo(filename):\n",
    "    video = moviepy.editor.VideoFileClip(filename+\".mp4\")\n",
    "    return int(video.duration)"
   ]
  },
  {
   "cell_type": "code",
   "execution_count": null,
   "metadata": {},
   "outputs": [],
   "source": [
    "def tempo(tempoAtual, valor):\n",
    "    tempo = \"\"\n",
    "    \n",
    "    return tempoAtual, tempo"
   ]
  },
  {
   "cell_type": "code",
   "execution_count": 194,
   "metadata": {},
   "outputs": [],
   "source": [
    "def organizarTexto(arquivo):\n",
    "    gravar = open(arquivo + \"1.txt\", \"w\")\n",
    "    coluna = 170\n",
    "    texto = list()\n",
    "    linhaAtual = \"\"\n",
    "    quantidadeLinha = 0    \n",
    "    video_duration = tempoVideo(filename)\n",
    "    with open(arquivo + \".txt\", encoding='utf-8') as arq_entrada:\n",
    "        conteudo = arq_entrada.read()\n",
    "        \n",
    "    totalCaracteres = 0\n",
    "    for linha in conteudo.split('\\n'):\n",
    "        if len(linha) > 0:\n",
    "            if linha[0].isdigit():\n",
    "                continue\n",
    "            for fatiado in linha.split(\".\"): \n",
    "                if len(fatiado) > 0:\n",
    "                    if((len(linhaAtual) + len(fatiado)) > coluna):\n",
    "                        totalCaracteres += len(linhaAtual)\n",
    "                        quantidadeLinha += 1\n",
    "                        texto.append(linhaAtual + '\\n\\n')\n",
    "                        linhaAtual = fatiado + \".\"\n",
    "                    else:\n",
    "                        linhaAtual = linhaAtual + fatiado + \".\"\n",
    "    totalCaracteres += len(linhaAtual)\n",
    "    texto.append(\" \" + linhaAtual )\n",
    "    duration = video_duration# - quantidadeLinha\n",
    "    #for linha in texto:\n",
    "    #print(len(texto))\n",
    "    #print(totalCaracteres)\n",
    "   # print(len(texto))\n",
    "   # print(video_duration - quantidadeLinha)\n",
    "    colocarTempo(arquivo,texto, duration, totalCaracteres)\n",
    "    gravar.writelines(texto)\n",
    "    return texto, duration, "
   ]
  },
  {
   "cell_type": "code",
   "execution_count": 195,
   "metadata": {},
   "outputs": [],
   "source": [
    "def colocarTempo(arquivo, texto, duration, totalCaracteres):\n",
    "    gravar = open(arquivo + \".srt\", \"w\")\n",
    "    hora = 0\n",
    "    minuto = 0\n",
    "    segundo = 3\n",
    "    traducao= list()\n",
    "    tempo = 0 \n",
    "    for linha in texto:\n",
    "        traducao.append(str(tempo)+\"\\n\")\n",
    "        tempo += 1\n",
    "        #segundo +=1\n",
    "        traducao.append(str(hora).zfill(2)+\":\"+str(minuto).zfill(2)+\":\"+str(int(round(segundo, 0))).zfill(2)+\",000 --> \")\n",
    "        segundo += duration*(len(linha)/totalCaracteres)\n",
    "        if(segundo >= 60):\n",
    "            segundo -= 60\n",
    "            minuto += 1\n",
    "        if(minuto >= 60):\n",
    "            minuto -= 60\n",
    "            hora += 1\n",
    "        traducao.append(str(hora).zfill(2)+\":\"+str(minuto).zfill(2)+\":\"+str(int(round(segundo, 0))).zfill(2)+\",000\\n\")\n",
    "        traducao.append(linha)\n",
    "        \n",
    "    gravar.writelines(traducao)"
   ]
  },
  {
   "cell_type": "code",
   "execution_count": 196,
   "metadata": {
    "scrolled": true
   },
   "outputs": [],
   "source": [
    "aaa = organizarTexto(filename)"
   ]
  },
  {
   "cell_type": "code",
   "execution_count": null,
   "metadata": {},
   "outputs": [],
   "source": [
    "print(aaa)"
   ]
  },
  {
   "cell_type": "code",
   "execution_count": null,
   "metadata": {},
   "outputs": [],
   "source": [
    "print(len(aaa))"
   ]
  },
  {
   "cell_type": "code",
   "execution_count": null,
   "metadata": {},
   "outputs": [],
   "source": [
    "print(len(aaa.split('\\n', 1)[0]))"
   ]
  },
  {
   "cell_type": "code",
   "execution_count": null,
   "metadata": {},
   "outputs": [],
   "source": [
    "print(len(aaa.split('\\n')))"
   ]
  }
 ],
 "metadata": {
  "kernelspec": {
   "display_name": "Python 3",
   "language": "python",
   "name": "python3"
  },
  "language_info": {
   "codemirror_mode": {
    "name": "ipython",
    "version": 3
   },
   "file_extension": ".py",
   "mimetype": "text/x-python",
   "name": "python",
   "nbconvert_exporter": "python",
   "pygments_lexer": "ipython3",
   "version": "3.8.5"
  }
 },
 "nbformat": 4,
 "nbformat_minor": 4
}
